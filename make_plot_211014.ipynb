{
 "cells": [
  {
   "cell_type": "code",
   "execution_count": 1,
   "metadata": {},
   "outputs": [],
   "source": [
    "import os\n",
    "import gzip\n",
    "import keras\n",
    "import tensorflow as tf\n",
    "import matplotlib.pyplot as plt\n",
    "import numpy as np"
   ]
  },
  {
   "cell_type": "code",
   "execution_count": 2,
   "metadata": {},
   "outputs": [],
   "source": [
    "def read_nk(filepath, wavetype, filetype='gz'):\n",
    "    '''\n",
    "    Nlhoncohden 파일을 읽기 위한 함수\n",
    "    filepath : waveform filepath\n",
    "    wavetype : ECGII, ART1(A-line Blood pressure),RESPIMP(Respiratory Impedance),SPO2IRAC(PPG),CVP(Central Venous pressure)\n",
    "    filetype : gz or csv  (초창기 csv로 저장된 파일을 읽기위함)\n",
    "    \n",
    "    Return\n",
    "    biosignal array(numpy array)\n",
    "    '''\n",
    "    if filetype == 'gz':\n",
    "        with gzip.open(filepath, 'rt') as f:\n",
    "            content = f.read()\n",
    "            if wavetype == 'ECGII':\n",
    "                tmp = np.int32((np.array(content.split(','))[:-1]).reshape(-1))\n",
    "                tmp = tmp[::2]  #sampling rate 조절하는 부분\n",
    "                return tmp\n",
    "\n",
    "            elif wavetype == 'ART1' or wavetype == 'RESPIMP' or wavetype == 'SPO2IRAC' or wavetype == 'CVP':\n",
    "                tmp = np.int32((np.array(content.split(','))[:-1]).reshape(-1))\n",
    "                return tmp\n",
    "    elif filetype == 'csv':\n",
    "        tmp = pd.read_csv(filepath, header=None).iloc[:, :-1]\n",
    "        if wavetype == 'ECGII':\n",
    "            tmp = np.array(tmp).reshape(-1)\n",
    "            tmp = tmp[::2] #sampling rate 조절하는 부분\n",
    "            return tmp\n",
    "        tmp = np.array(tmp).reshape(-1)\n",
    "        return tmp\n",
    "def read_ph(filepath, wavetype, filetype=None):\n",
    "    tmp = zipfile.ZipFile(filepath)\n",
    "    if wavetype == 'ECGII':\n",
    "        tmp = pd.read_csv(tmp.open(tmp.namelist()[0]), header=None)[list(range(5000))]\n",
    "        tmp = np.array(tmp).reshape(-1)\n",
    "        tmp = tmp[::4]\n",
    "        return tmp  ## 여기 스케일 조정해야돼 스케일 이슈\n",
    "    elif wavetype == 'ART1' or wavetype == 'SPO2IRAC':\n",
    "        tmp = pd.read_csv(tmp.open(tmp.namelist()[0]), header=None)[list(range(1250))]\n",
    "        tmp = np.array(tmp).reshape(-1)\n",
    "        return tmp\n",
    "    elif wavetype == 'RESPIMP':\n",
    "        tmp = pd.read_csv(tmp.open(tmp.namelist()[0]), header=None)[list(range(625))]\n",
    "        tmp = np.array(tmp).reshape(-1)\n",
    "        tmp = np.interp(np.arange(0, len(tmp), 0.5), np.arange(0, len(tmp)), tmp)\n",
    "        return tmp\n",
    "    return None"
   ]
  },
  {
   "cell_type": "code",
   "execution_count": 3,
   "metadata": {},
   "outputs": [],
   "source": [
    "import pandas as pd"
   ]
  },
  {
   "cell_type": "code",
   "execution_count": 4,
   "metadata": {},
   "outputs": [],
   "source": [
    "NCUA=pd.read_csv('NCUA.csv')\n",
    "NCUB=pd.read_csv('NCUB.csv')"
   ]
  },
  {
   "cell_type": "code",
   "execution_count": 5,
   "metadata": {},
   "outputs": [],
   "source": [
    "NCUA_ID=NCUA['patient_id']\n",
    "NCUB_ID=NCUB['patient_id']"
   ]
  },
  {
   "cell_type": "code",
   "execution_count": 7,
   "metadata": {},
   "outputs": [],
   "source": [
    "NCUA_ID=list(NCUA_ID)"
   ]
  },
  {
   "cell_type": "code",
   "execution_count": 8,
   "metadata": {},
   "outputs": [],
   "source": [
    "NCUB_ID=list(NCUB_ID)"
   ]
  },
  {
   "cell_type": "code",
   "execution_count": 9,
   "metadata": {},
   "outputs": [],
   "source": [
    "NCU_ID=NCUA_ID+NCUB_ID"
   ]
  },
  {
   "cell_type": "code",
   "execution_count": 10,
   "metadata": {},
   "outputs": [
    {
     "data": {
      "text/plain": [
       "1275"
      ]
     },
     "execution_count": 10,
     "metadata": {},
     "output_type": "execute_result"
    }
   ],
   "source": [
    "#len(NCU_ID)"
   ]
  },
  {
   "cell_type": "code",
   "execution_count": 12,
   "metadata": {},
   "outputs": [],
   "source": [
    "GZIP_NCU = []\n",
    "for i in range(len(NCU_ID)):\n",
    "    if NCU_ID[i] in os.listdir('/mount/GZIP/'):\n",
    "        GZIP_NCU.append(NCU_ID[i])"
   ]
  },
  {
   "cell_type": "code",
   "execution_count": 13,
   "metadata": {},
   "outputs": [],
   "source": [
    "GZIP_dict = {}\n",
    "#GZIP_dict['NCU_ID'] = {}\n",
    "for i in range(len(GZIP_NCU)):\n",
    "    GZIP_dict[GZIP_NCU[i]] = {}\n",
    "    GZIP_dict[GZIP_NCU[i]]['date']=os.listdir('/mount/GZIP/'+GZIP_NCU[i])"
   ]
  },
  {
   "cell_type": "code",
   "execution_count": 14,
   "metadata": {},
   "outputs": [
    {
     "data": {
      "text/plain": [
       "904"
      ]
     },
     "execution_count": 14,
     "metadata": {},
     "output_type": "execute_result"
    }
   ],
   "source": [
    "#len(GZIP_NCU)"
   ]
  },
  {
   "cell_type": "code",
   "execution_count": 15,
   "metadata": {},
   "outputs": [],
   "source": [
    "GZIP_P = []\n",
    "for i in range(len(NCU_ID)):\n",
    "    if NCU_ID[i] in os.listdir('/mount/GZIP_P/'):\n",
    "        GZIP_P.append(NCU_ID[i])"
   ]
  },
  {
   "cell_type": "code",
   "execution_count": 16,
   "metadata": {},
   "outputs": [
    {
     "data": {
      "text/plain": [
       "47"
      ]
     },
     "execution_count": 16,
     "metadata": {},
     "output_type": "execute_result"
    }
   ],
   "source": [
    "#len(GZIP_P)"
   ]
  },
  {
   "cell_type": "code",
   "execution_count": 17,
   "metadata": {},
   "outputs": [],
   "source": [
    "GZIP_P_dict = {}\n",
    "for i in range(len(GZIP_P)):\n",
    "\n",
    "    GZIP_P_dict[GZIP_P[i]] = {}\n",
    "    GZIP_P_dict[GZIP_P[i]]['date']=os.listdir('/mount/GZIP_P/'+GZIP_P[i])"
   ]
  },
  {
   "cell_type": "code",
   "execution_count": 18,
   "metadata": {},
   "outputs": [],
   "source": [
    "GZIP_G = []\n",
    "for i in range(len(NCU_ID)):\n",
    "    if NCU_ID[i] in os.listdir('/mount/GZIP_G/'):\n",
    "        GZIP_G.append(NCU_ID[i])"
   ]
  },
  {
   "cell_type": "code",
   "execution_count": 19,
   "metadata": {},
   "outputs": [],
   "source": [
    "GZIP_G_dict = {}\n",
    "for i in range(len(GZIP_P)):\n",
    "\n",
    "    GZIP_G_dict[GZIP_G[i]]= {}\n",
    "    GZIP_G_dict[GZIP_G[i]]['date']=os.listdir('/mount/GZIP_G/'+GZIP_G[i])"
   ]
  },
  {
   "cell_type": "code",
   "execution_count": null,
   "metadata": {},
   "outputs": [],
   "source": [
    "import pickle\n",
    "with open('GZIP_G_dict.pickle', 'wb') as f:\n",
    "    pickle.dump(GZIP_G_dict, f)\n",
    "with open('GZIP_dict.pickle', 'wb') as f:\n",
    "    pickle.dump(GZIP_dict, f)\n",
    "with open('GZIP_P_dict.pickle', 'wb') as f:\n",
    "    pickle.dump(GZIP_P_dict, f)"
   ]
  },
  {
   "cell_type": "code",
   "execution_count": null,
   "metadata": {},
   "outputs": [],
   "source": [
    "fig = plt.figure()## 그래프 객체 생성\n",
    "for w in range(5,20):\n",
    "    ECGII_list = []\n",
    "    RESPIMP_list = []\n",
    "    SPO2IRAC_list = []\n",
    "    if GZIP_NCU[w] in os.listdir('/mount/GZIP'):\n",
    "        date_list = os.listdir('/mount/GZIP/'+(GZIP_NCU[w]))\n",
    "        try:\n",
    "            os.mkdir('graph'+'/'+GZIP_NCU[w])\n",
    "        except:\n",
    "            pass\n",
    "        for q in range(len(date_list)):\n",
    "            signal_list=os.listdir('/mount/GZIP'+'/'+GZIP_NCU[w]+'/'+date_list[q])\n",
    "            try:\n",
    "                os.mkdir('graph'+'/'+GZIP_NCU[w]+'/'+date_list[q])\n",
    "            except:\n",
    "                pass\n",
    "            for i in range(int(len(signal_list))):\n",
    "                if signal_list[i].split('_')[-1] == 'ECGII.gz':\n",
    "                    ECGII_list.append(signal_list[i])\n",
    "                elif signal_list[i].split('_')[-1] == 'RESPIMP.gz':\n",
    "                    RESPIMP_list.append(signal_list[i])\n",
    "                elif signal_list[i].split('_')[-1] == 'SPO2IRAC.gz':\n",
    "                    SPO2IRAC_list.append(signal_list[i])            \n",
    "            for e in range(len(ECGII_list)):\n",
    "                tmp = ECGII_list[e].split('_')[0] + '_' +ECGII_list[e].split('_')[1]\n",
    "                try:\n",
    "                    ECGII_ = read_nk('/mount/GZIP/'+'/'+GZIP_NCU[w]+'/'+date_list[q]+'/'+tmp+'_'+'ECGII.gz','ECGII')\n",
    "                    RESPIMP_ = read_nk('/mount/GZIP/'+'/'+GZIP_NCU[w]+'/'+date_list[q]+'/'+tmp+'_'+'RESPIMP.gz','RESPIMP')\n",
    "                    SPO2IRAC_ = read_nk('/mount/GZIP/'+'/'+GZIP_NCU[w]+'/'+date_list[q]+'/'+tmp+'_'+'SPO2IRAC.gz','SPO2IRAC')\n",
    "                    plt.rcParams['figure.figsize'] = (28,14)## 그래프 크기 지정\n",
    "                    \n",
    "                    ax1 = fig.add_subplot(3,1,1) ## 3가지 데이터 부분 그래프 생성\n",
    "                    ax1.plot(np.arange(0, 600, 600/len(ECGII_)),ECGII_,linewidth=0.1,color='red')##10분간의 그래프\n",
    "                    #plt.ylabel('Sec')\n",
    "                    plt.title('RESPIMP')\n",
    "                    ax2 = fig.add_subplot(3,1,2)\n",
    "                    plt.title('SPO2')\n",
    "                    ax2.plot(np.arange(0, 600, 600/len(RESPIMP_)),RESPIMP_,linewidth=0.1,color='green')\n",
    "                    ax3 = fig.add_subplot(3,1,3)\n",
    "                    plt.title('ECG')\n",
    "                    ax3.plot(np.arange(0, 600, 600/len(SPO2IRAC_)),SPO2IRAC_,linewidth=0.1,color='blue')\n",
    "                    fig.savefig('graph/'+GZIP_NCU[w]+'/'+date_list[q]+'/'+tmp+'.png') \n",
    "                    fig.clear()\n",
    "                except:\n",
    "                    pass"
   ]
  },
  {
   "cell_type": "code",
   "execution_count": null,
   "metadata": {},
   "outputs": [],
   "source": [
    "PH\n",
    "\n",
    "'3ICUA'\n",
    "'3ICUB'\n",
    "'EICU'\n",
    "'MICU'\n",
    "'TICUA'\n",
    "'TOR'"
   ]
  },
  {
   "cell_type": "code",
   "execution_count": null,
   "metadata": {},
   "outputs": [],
   "source": [
    "NK\n",
    "\n",
    "'NULL'\n",
    "'BED'\n",
    "'ER_ISO'\n",
    "'ER_PED'\n",
    "'ER_RES'\n",
    "'ICU'\n",
    "'NCU B'\n",
    "'TICUB'\n",
    "'TICUC'"
   ]
  },
  {
   "cell_type": "code",
   "execution_count": null,
   "metadata": {},
   "outputs": [],
   "source": [
    "GE\n",
    "\n",
    "'091S'\n",
    "'3CCU'\n",
    "'5ICU'\n",
    "'CTC'\n",
    "'MPA'\n",
    "'NCUA'\n",
    "'OR'"
   ]
  },
  {
   "cell_type": "code",
   "execution_count": null,
   "metadata": {},
   "outputs": [],
   "source": []
  }
 ],
 "metadata": {
  "kernelspec": {
   "display_name": "Python 3",
   "language": "python",
   "name": "python3"
  },
  "language_info": {
   "codemirror_mode": {
    "name": "ipython",
    "version": 3
   },
   "file_extension": ".py",
   "mimetype": "text/x-python",
   "name": "python",
   "nbconvert_exporter": "python",
   "pygments_lexer": "ipython3",
   "version": "3.8.8"
  },
  "toc-autonumbering": true
 },
 "nbformat": 4,
 "nbformat_minor": 4
}
